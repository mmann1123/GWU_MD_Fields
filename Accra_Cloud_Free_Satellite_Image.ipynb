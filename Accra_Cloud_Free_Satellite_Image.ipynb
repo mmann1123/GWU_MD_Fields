{
  "cells": [
    {
      "cell_type": "markdown",
      "metadata": {
        "id": "-XeCnZEP4K6j"
      },
      "source": [
        "[![Open In Colab](https://colab.research.google.com/assets/colab-badge.svg)](https://colab.research.google.com/drive/15XaOjiedxejzJ3hto5mHpjP4_58e_91S#scrollTo=xaPoC6BF-4KG)"
      ]
    },
    {
      "cell_type": "markdown",
      "metadata": {
        "id": "zAZ10FCGggFU"
      },
      "source": [
        "### Cloning the Github repo"
      ]
    },
    {
      "cell_type": "code",
      "execution_count": null,
      "metadata": {
        "colab": {
          "base_uri": "https://localhost:8080/"
        },
        "id": "sQiXwQJUgdJd",
        "outputId": "be79b2d0-623a-4af3-8ac8-bf9a4070f01d"
      },
      "outputs": [
        {
          "name": "stdout",
          "output_type": "stream",
          "text": [
            "Cloning into 'Satellite-Imagery'...\n",
            "remote: Enumerating objects: 588, done.\u001b[K\n",
            "remote: Counting objects: 100% (169/169), done.\u001b[K\n",
            "remote: Compressing objects: 100% (162/162), done.\u001b[K\n",
            "remote: Total 588 (delta 25), reused 91 (delta 5), pack-reused 419\u001b[K\n",
            "Receiving objects: 100% (588/588), 87.24 MiB | 23.23 MiB/s, done.\n",
            "Resolving deltas: 100% (223/223), done.\n"
          ]
        }
      ],
      "source": [
        "!git clone https://github.com/arathinair11/Satellite-Imagery.git"
      ]
    },
    {
      "cell_type": "markdown",
      "metadata": {
        "id": "lM686bTP-11C"
      },
      "source": [
        "### Initializing the Earth Engine API"
      ]
    },
    {
      "cell_type": "code",
      "execution_count": null,
      "metadata": {
        "colab": {
          "base_uri": "https://localhost:8080/"
        },
        "id": "xaPoC6BF-4KG",
        "outputId": "29c0efb0-8e1c-4318-a3d3-71f23f8ba907"
      },
      "outputs": [
        {
          "name": "stdout",
          "output_type": "stream",
          "text": [
            "To authorize access needed by Earth Engine, open the following URL in a web browser and follow the instructions. If the web browser does not start automatically, please manually browse the URL below.\n",
            "\n",
            "    https://code.earthengine.google.com/client-auth?scopes=https%3A//www.googleapis.com/auth/earthengine%20https%3A//www.googleapis.com/auth/devstorage.full_control&request_id=FsfxeEB6UJJe0LaLKYzpiRvOonwA9dotq8nF-jx--Ts&tc=yuMTFMC5WAT0FkliN0HvrKT56ynrw7fHdFGtcB7X3uY&cc=7Ou0Kt_6Az763zO6yq4dWElVrPk2u-FigiSkaGwRwLw\n",
            "\n",
            "The authorization workflow will generate a code, which you should paste in the box below. \n",
            "Enter verification code: 4/1AX4XfWgYNLOkCsJzN28vVicBl2KRWI8rOdxhhKRYgSJbfrihghmaLjGAUeU\n",
            "\n",
            "Successfully saved authorization token.\n"
          ]
        }
      ],
      "source": [
        "import ee\n",
        "\n",
        "# Trigger the authentication flow.\n",
        "ee.Authenticate()\n",
        "\n",
        "# Initialize the library.\n",
        "ee.Initialize()"
      ]
    },
    {
      "cell_type": "markdown",
      "metadata": {
        "id": "Tw6B386ucCNo"
      },
      "source": [
        "### Upload the GeoJson file"
      ]
    },
    {
      "cell_type": "code",
      "execution_count": null,
      "metadata": {
        "id": "Mpz8syObgGm2"
      },
      "outputs": [],
      "source": [
        "import json\n",
        "from google.colab import drive\n",
        "import sys\n",
        "\n",
        "f = open('/content/Satellite-Imagery/Code/Accra/Accra.geojson')\n",
        "shapefile = json.load(f)"
      ]
    },
    {
      "cell_type": "code",
      "execution_count": null,
      "metadata": {
        "id": "pYTzehWuN9vb"
      },
      "outputs": [],
      "source": [
        "## get gjson features\n",
        "features = shapefile['features']\n",
        "\n",
        "## make Earth Engine FeatureCollection of features\n",
        "fc = ee.FeatureCollection(features)\n"
      ]
    },
    {
      "cell_type": "markdown",
      "metadata": {
        "id": "eGb05enXNq5N"
      },
      "source": [
        "## Assemble cloud mask components\n",
        "\n",
        "This section builds an S2 SR collection and defines functions to add cloud and cloud shadow component layers to each image in the collection."
      ]
    },
    {
      "cell_type": "markdown",
      "metadata": {
        "id": "0HB0RMzVNxGG"
      },
      "source": [
        "60### Define collection filter and cloud mask parameters\n",
        "\n",
        "Define parameters that are used to filter the S2 image collection and determine cloud and cloud shadow identification.\n",
        "\n",
        "|Parameter | Type | Description |\n",
        "| :-- | :-- | :-- |\n",
        "| `AOI` | `ee.Geometry` | Area of interest |\n",
        "| `START_DATE` | string | Image collection start date (inclusive) |\n",
        "| `END_DATE` | string | Image collection end date (exclusive) |\n",
        "| `CLOUD_FILTER` | integer | Maximum image cloud cover percent allowed in image collection |\n",
        "| `CLD_PRB_THRESH` | integer | Cloud probability (%); values greater than are considered cloud |\n",
        "| `NIR_DRK_THRESH` | float | Near-infrared reflectance; values less than are considered potential cloud shadow |\n",
        "| `CLD_PRJ_DIST` | float | Maximum distance (km) to search for cloud shadows from cloud edges |\n",
        "| `BUFFER` | integer | Distance (m) to dilate the edge of cloud-identified objects |"
      ]
    },
    {
      "cell_type": "code",
      "execution_count": null,
      "metadata": {
        "id": "9VPtmT_p_CGr"
      },
      "outputs": [],
      "source": [
        "AOI = ee.Geometry.MultiPolygon(shapefile['features'][0][\"geometry\"]['coordinates'])\n",
        "START_DATE = '2021-11-14'\n",
        "END_DATE = '2021-12-23'\n",
        "CLOUD_FILTER = 30\n",
        "CLD_PRB_THRESH = 85\n",
        "NIR_DRK_THRESH = 0.50\n",
        "CLD_PRJ_DIST = 2\n",
        "BUFFER = 65"
      ]
    },
    {
      "cell_type": "markdown",
      "metadata": {
        "id": "RETbn1Ge_hGA"
      },
      "source": [
        "### Build a Sentinel-2 collection\n",
        "\n",
        "[Sentinel-2 surface reflectance](https://developers.google.com/earth-engine/datasets/catalog/COPERNICUS_S2_SR) and [Sentinel-2 cloud probability](https://developers.google.com/earth-engine/datasets/catalog/COPERNICUS_S2_CLOUD_PROBABILITY) are two different image collections. Each collection must be filtered similarly (e.g., by date and bounds) and then the two filtered collections must be joined.\n",
        "\n",
        "Define a function to filter the SR and s2cloudless collections according to area of interest and date parameters, then join them on the `system:index` property. The result is a copy of the SR collection where each image has a new `'s2cloudless'` property whose value is the corresponding s2cloudless image."
      ]
    },
    {
      "cell_type": "code",
      "execution_count": null,
      "metadata": {
        "id": "eNVNd1V3_ilo"
      },
      "outputs": [],
      "source": [
        "def get_s2_sr_cld_col(aoi, start_date, end_date):\n",
        "    # Import and filter S2 SR.\n",
        "    s2_sr_col = (ee.ImageCollection('COPERNICUS/S2_SR')\n",
        "        .filterBounds(aoi)\n",
        "        .filterDate(start_date, end_date)\n",
        "        .filter(ee.Filter.lte('CLOUDY_PIXEL_PERCENTAGE', CLOUD_FILTER)))\n",
        "\n",
        "    # Import and filter s2cloudless.\n",
        "    s2_cloudless_col = (ee.ImageCollection('COPERNICUS/S2_CLOUD_PROBABILITY')\n",
        "        .filterBounds(aoi)\n",
        "        .filterDate(start_date, end_date))\n",
        "\n",
        "    # Join the filtered s2cloudless collection to the SR collection by the 'system:index' property.\n",
        "    return ee.ImageCollection(ee.Join.saveFirst('s2cloudless').apply(**{\n",
        "        'primary': s2_sr_col,\n",
        "        'secondary': s2_cloudless_col,\n",
        "        'condition': ee.Filter.equals(**{\n",
        "            'leftField': 'system:index',\n",
        "            'rightField': 'system:index'\n",
        "        })\n",
        "    }))\n"
      ]
    },
    {
      "cell_type": "markdown",
      "metadata": {
        "id": "yekY86w_VxqU"
      },
      "source": [
        "##### Applying the get_s2_sr_cld_col function to build a collection according to the parameters defined above."
      ]
    },
    {
      "cell_type": "code",
      "execution_count": null,
      "metadata": {
        "id": "ny8w8AhyVAKr"
      },
      "outputs": [],
      "source": [
        "s2_sr_cld_col_eval = get_s2_sr_cld_col(AOI, START_DATE, END_DATE)"
      ]
    },
    {
      "cell_type": "markdown",
      "metadata": {
        "id": "X23g6IQ9_zbe"
      },
      "source": [
        "### Define cloud mask component functions"
      ]
    },
    {
      "cell_type": "markdown",
      "metadata": {
        "id": "9iUOTnHRPzMl"
      },
      "source": [
        "#### Cloud components\n",
        "\n",
        "Define a function to add the s2cloudless probability layer and derived cloud mask as bands to an S2 SR image input."
      ]
    },
    {
      "cell_type": "code",
      "execution_count": null,
      "metadata": {
        "id": "Gz7ebApaQCEX"
      },
      "outputs": [],
      "source": [
        "def add_cloud_bands(img):\n",
        "    # Get s2cloudless image, subset the probability band.\n",
        "    cld_prb = ee.Image(img.get('s2cloudless')).select('probability')\n",
        "\n",
        "    # Condition s2cloudless by the probability threshold value.\n",
        "    is_cloud = cld_prb.gt(CLD_PRB_THRESH).rename('clouds')\n",
        "\n",
        "    # Add the cloud probability layer and cloud mask as image bands.\n",
        "    return img.addBands(ee.Image([cld_prb, is_cloud]))"
      ]
    },
    {
      "cell_type": "markdown",
      "metadata": {
        "id": "3srIz63rQE_0"
      },
      "source": [
        "#### Cloud shadow components\n",
        "\n",
        "Define a function to add dark pixels, cloud projection, and identified shadows as bands to an S2 SR image input. Note that the image input needs to be the result of the above `add_cloud_bands` function because it relies on knowing which pixels are considered cloudy (`'clouds'` band)."
      ]
    },
    {
      "cell_type": "code",
      "execution_count": null,
      "metadata": {
        "id": "vkhni7Kb_0T5"
      },
      "outputs": [],
      "source": [
        "def add_shadow_bands(img):\n",
        "    # Identify water pixels from the SCL band.\n",
        "    not_water = img.select('SCL').neq(6)\n",
        "\n",
        "    # Identify dark NIR pixels that are not water (potential cloud shadow pixels).\n",
        "    SR_BAND_SCALE = 1e4\n",
        "    dark_pixels = img.select('B8').lt(NIR_DRK_THRESH*SR_BAND_SCALE).multiply(not_water).rename('dark_pixels')\n",
        "\n",
        "    # Determine the direction to project cloud shadow from clouds (assumes UTM projection).\n",
        "    shadow_azimuth = ee.Number(90).subtract(ee.Number(img.get('MEAN_SOLAR_AZIMUTH_ANGLE')));\n",
        "\n",
        "    # Project shadows from clouds for the distance specified by the CLD_PRJ_DIST input.\n",
        "    cld_proj = (img.select('clouds').directionalDistanceTransform(shadow_azimuth, CLD_PRJ_DIST*10)\n",
        "        .reproject(**{'crs': img.select(0).projection(), 'scale': 100})\n",
        "        .select('distance')\n",
        "        .mask()\n",
        "        .rename('cloud_transform'))\n",
        "\n",
        "    # Identify the intersection of dark pixels with cloud shadow projection.\n",
        "    shadows = cld_proj.multiply(dark_pixels).rename('shadows')\n",
        "\n",
        "    # Add dark pixels, cloud projection, and identified shadows as image bands.\n",
        "    return img.addBands(ee.Image([dark_pixels, cld_proj, shadows]))\n"
      ]
    },
    {
      "cell_type": "markdown",
      "metadata": {
        "id": "lF6FwqQhQQg7"
      },
      "source": [
        "#### Final cloud-shadow mask\n",
        "\n",
        "Define a function to assemble all of the cloud and cloud shadow components and produce the final mask."
      ]
    },
    {
      "cell_type": "code",
      "execution_count": null,
      "metadata": {
        "id": "gQP25z0fQR7r"
      },
      "outputs": [],
      "source": [
        "def add_cld_shdw_mask(img):\n",
        "    # Add cloud component bands.\n",
        "    img_cloud = add_cloud_bands(img)\n",
        "\n",
        "    # Add cloud shadow component bands.\n",
        "    img_cloud_shadow = add_shadow_bands(img_cloud)\n",
        "\n",
        "    # Combine cloud and shadow mask, set cloud and shadow as value 1, else 0.\n",
        "    is_cld_shdw = img_cloud_shadow.select('clouds').add(img_cloud_shadow.select('shadows')).gt(0)\n",
        "\n",
        "    # Remove small cloud-shadow patches and dilate remaining pixels by BUFFER input.\n",
        "    # 20 m scale is for speed, and assumes clouds don't require 10 m precision.\n",
        "    is_cld_shdw = (is_cld_shdw.focalMin(2).focalMax(BUFFER*2/20)\n",
        "        .reproject(**{'crs': img.select([0]).projection(), 'scale': SCALE})\n",
        "        .rename('cloudmask'))\n",
        "\n",
        "    # Add the final cloud-shadow mask to the image.\n",
        "    return img_cloud_shadow.addBands(is_cld_shdw)"
      ]
    },
    {
      "cell_type": "markdown",
      "metadata": {
        "id": "vU6LsrQrAdO4"
      },
      "source": [
        "## Visualize and evaluate cloud mask components\n",
        "\n",
        "This section provides functions for displaying the cloud and cloud shadow components. In most cases, adding all components to images and viewing them is unnecessary. This section is included to illustrate how the cloud/cloud shadow mask is developed and demonstrate how to test and evaluate various parameters, which is helpful when defining masking variables for an unfamiliar region or time of year.\n"
      ]
    },
    {
      "cell_type": "markdown",
      "metadata": {
        "id": "3lUkS-bzQvJi"
      },
      "source": [
        "### Define functions to display image and mask component layers.\n",
        "\n",
        "Folium will be used to display map layers. Import `folium` and define a method to display Earth Engine image tiles."
      ]
    },
    {
      "cell_type": "code",
      "execution_count": null,
      "metadata": {
        "id": "4wesxOs2AeKt"
      },
      "outputs": [],
      "source": [
        "# Import the folium library.\n",
        "import folium\n",
        "\n",
        "# Define a method for displaying Earth Engine image tiles to a folium map.\n",
        "def add_ee_layer(self, ee_image_object, vis_params, name, show=True, opacity=1, min_zoom=0):\n",
        "    map_id_dict = ee.Image(ee_image_object).getMapId(vis_params)\n",
        "    folium.raster_layers.TileLayer(\n",
        "        tiles=map_id_dict['tile_fetcher'].url_format,\n",
        "        attr='Map Data &copy; <a href=\"https://earthengine.google.com/\">Google Earth Engine</a>',\n",
        "        name=name,\n",
        "        show=show,\n",
        "        opacity=opacity,\n",
        "        min_zoom=min_zoom,\n",
        "        overlay=True,\n",
        "        control=True\n",
        "        ).add_to(self)\n",
        "\n",
        "# Add the Earth Engine layer method to folium.\n",
        "folium.Map.add_ee_layer = add_ee_layer\n",
        "\n"
      ]
    },
    {
      "cell_type": "markdown",
      "metadata": {
        "id": "MGStdDGtQ2mc"
      },
      "source": [
        "Define a function to display all of the cloud and cloud shadow components to an interactive Folium map. The input is an image collection where each image is the result of the `add_cld_shdw_mask` function defined previously."
      ]
    },
    {
      "cell_type": "code",
      "execution_count": null,
      "metadata": {
        "id": "_NJ46TtkRBbg"
      },
      "outputs": [],
      "source": [
        "def display_cloud_layers(col):\n",
        "    # Mosaic the image collection.\n",
        "    img = col.mosaic()\n",
        "\n",
        "    # Subset layers and prepare them for display.\n",
        "    clouds = img.select('clouds').selfMask()\n",
        "    shadows = img.select('shadows').selfMask()\n",
        "    dark_pixels = img.select('dark_pixels').selfMask()\n",
        "    probability = img.select('probability')\n",
        "    cloudmask = img.select('cloudmask').selfMask()\n",
        "    cloud_transform = img.select('cloud_transform')\n",
        "\n",
        "    # Create a folium map object.\n",
        "    center = AOI.centroid(10).coordinates().reverse().getInfo()\n",
        "    m = folium.Map(location=center, zoom_start=12)\n",
        "\n",
        "    # Add layers to the folium map.\n",
        "    m.add_ee_layer(img,\n",
        "                   {'bands': ['B4', 'B3', 'B2'], 'min': 0, 'max': 2500, 'gamma': 1.1},\n",
        "                   'S2 image', True, 1, 9)\n",
        "    m.add_ee_layer(probability,\n",
        "                   {'min': 0, 'max': 100},\n",
        "                   'probability (cloud)', False, 1, 9)\n",
        "    m.add_ee_layer(clouds,\n",
        "                   {'palette': 'e056fd'},\n",
        "                   'clouds', False, 1, 9)\n",
        "    m.add_ee_layer(cloud_transform,\n",
        "                   {'min': 0, 'max': 1, 'palette': ['white', 'black']},\n",
        "                   'cloud_transform', False, 1, 9)\n",
        "    m.add_ee_layer(dark_pixels,\n",
        "                   {'palette': 'orange'},\n",
        "                   'dark_pixels', False, 1, 9)\n",
        "    m.add_ee_layer(shadows, {'palette': 'yellow'},\n",
        "                   'shadows', False, 1, 9)\n",
        "    m.add_ee_layer(cloudmask, {'palette': 'orange'},\n",
        "                   'cloudmask', True, 0.5, 9)\n",
        "\n",
        "    # Add a layer control panel to the map.\n",
        "    m.add_child(folium.LayerControl())\n",
        "\n",
        "    # Display the map.\n",
        "    display(m)"
      ]
    },
    {
      "cell_type": "markdown",
      "metadata": {
        "id": "fIuEuwO5Awcs"
      },
      "source": [
        "### Display mask component layers\n",
        "\n",
        "Map the `add_cld_shdw_mask` function over the collection to add mask component bands to each image, then display the results."
      ]
    },
    {
      "cell_type": "code",
      "execution_count": null,
      "metadata": {
        "colab": {
          "base_uri": "https://localhost:8080/",
          "height": 1000
        },
        "id": "pD9fJPksAxjh",
        "outputId": "1bb08f38-1fa0-401b-8634-81118eeaa7e9"
      },
      "outputs": [
        {
          "data": {
            "text/html": [
              "<div style=\"width:100%;\"><div style=\"position:relative;width:100%;height:0;padding-bottom:60%;\"><span style=\"color:#565656\">Make this Notebook Trusted to load map: File -> Trust Notebook</span><iframe srcdoc=\"&lt;!DOCTYPE html&gt;\n",
              "&lt;head&gt;    \n",
              "    &lt;meta http-equiv=&quot;content-type&quot; content=&quot;text/html; charset=UTF-8&quot; /&gt;\n",
              "    &lt;script&gt;L_PREFER_CANVAS=false; L_NO_TOUCH=false; L_DISABLE_3D=false;&lt;/script&gt;\n",
              "    &lt;script src=&quot;https://cdn.jsdelivr.net/npm/leaflet@1.4.0/dist/leaflet.js&quot;&gt;&lt;/script&gt;\n",
              "    &lt;script src=&quot;https://code.jquery.com/jquery-1.12.4.min.js&quot;&gt;&lt;/script&gt;\n",
              "    &lt;script src=&quot;https://maxcdn.bootstrapcdn.com/bootstrap/3.2.0/js/bootstrap.min.js&quot;&gt;&lt;/script&gt;\n",
              "    &lt;script src=&quot;https://cdnjs.cloudflare.com/ajax/libs/Leaflet.awesome-markers/2.0.2/leaflet.awesome-markers.js&quot;&gt;&lt;/script&gt;\n",
              "    &lt;link rel=&quot;stylesheet&quot; href=&quot;https://cdn.jsdelivr.net/npm/leaflet@1.4.0/dist/leaflet.css&quot;/&gt;\n",
              "    &lt;link rel=&quot;stylesheet&quot; href=&quot;https://maxcdn.bootstrapcdn.com/bootstrap/3.2.0/css/bootstrap.min.css&quot;/&gt;\n",
              "    &lt;link rel=&quot;stylesheet&quot; href=&quot;https://maxcdn.bootstrapcdn.com/bootstrap/3.2.0/css/bootstrap-theme.min.css&quot;/&gt;\n",
              "    &lt;link rel=&quot;stylesheet&quot; href=&quot;https://maxcdn.bootstrapcdn.com/font-awesome/4.6.3/css/font-awesome.min.css&quot;/&gt;\n",
              "    &lt;link rel=&quot;stylesheet&quot; href=&quot;https://cdnjs.cloudflare.com/ajax/libs/Leaflet.awesome-markers/2.0.2/leaflet.awesome-markers.css&quot;/&gt;\n",
              "    &lt;link rel=&quot;stylesheet&quot; href=&quot;https://rawcdn.githack.com/python-visualization/folium/master/folium/templates/leaflet.awesome.rotate.css&quot;/&gt;\n",
              "    &lt;style&gt;html, body {width: 100%;height: 100%;margin: 0;padding: 0;}&lt;/style&gt;\n",
              "    &lt;style&gt;#map {position:absolute;top:0;bottom:0;right:0;left:0;}&lt;/style&gt;\n",
              "    \n",
              "    &lt;meta name=&quot;viewport&quot; content=&quot;width=device-width,\n",
              "        initial-scale=1.0, maximum-scale=1.0, user-scalable=no&quot; /&gt;\n",
              "    &lt;style&gt;#map_e69df5491d28b94ed7b0488ee33fa99e {\n",
              "        position: relative;\n",
              "        width: 100.0%;\n",
              "        height: 100.0%;\n",
              "        left: 0.0%;\n",
              "        top: 0.0%;\n",
              "        }\n",
              "    &lt;/style&gt;\n",
              "&lt;/head&gt;\n",
              "&lt;body&gt;    \n",
              "    \n",
              "    &lt;div class=&quot;folium-map&quot; id=&quot;map_e69df5491d28b94ed7b0488ee33fa99e&quot; &gt;&lt;/div&gt;\n",
              "&lt;/body&gt;\n",
              "&lt;script&gt;    \n",
              "    \n",
              "    \n",
              "        var bounds = null;\n",
              "    \n",
              "\n",
              "    var map_e69df5491d28b94ed7b0488ee33fa99e = L.map(\n",
              "        &#x27;map_e69df5491d28b94ed7b0488ee33fa99e&#x27;, {\n",
              "        center: [5.666303116053737, -0.24223591915790776],\n",
              "        zoom: 12,\n",
              "        maxBounds: bounds,\n",
              "        layers: [],\n",
              "        worldCopyJump: false,\n",
              "        crs: L.CRS.EPSG3857,\n",
              "        zoomControl: true,\n",
              "        });\n",
              "\n",
              "\n",
              "    \n",
              "    var tile_layer_f63cfe3ee4099491f44c005d6c7e3b69 = L.tileLayer(\n",
              "        &#x27;https://{s}.tile.openstreetmap.org/{z}/{x}/{y}.png&#x27;,\n",
              "        {\n",
              "        &quot;attribution&quot;: null,\n",
              "        &quot;detectRetina&quot;: false,\n",
              "        &quot;maxNativeZoom&quot;: 18,\n",
              "        &quot;maxZoom&quot;: 18,\n",
              "        &quot;minZoom&quot;: 0,\n",
              "        &quot;noWrap&quot;: false,\n",
              "        &quot;opacity&quot;: 1,\n",
              "        &quot;subdomains&quot;: &quot;abc&quot;,\n",
              "        &quot;tms&quot;: false\n",
              "}).addTo(map_e69df5491d28b94ed7b0488ee33fa99e);\n",
              "    var tile_layer_c9c59d5597bc3a816771dcbb07115953 = L.tileLayer(\n",
              "        &#x27;https://earthengine.googleapis.com/v1alpha/projects/earthengine-legacy/maps/25912c906d5a7d65d335909e2fa5bb9d-7a2482ff43a3814755b01728c2665da4/tiles/{z}/{x}/{y}&#x27;,\n",
              "        {\n",
              "        &quot;attribution&quot;: &quot;Map Data &amp;copy; &lt;a href=\\&quot;https://earthengine.google.com/\\&quot;&gt;Google Earth Engine&lt;/a&gt;&quot;,\n",
              "        &quot;detectRetina&quot;: false,\n",
              "        &quot;maxNativeZoom&quot;: 18,\n",
              "        &quot;maxZoom&quot;: 18,\n",
              "        &quot;minZoom&quot;: 9,\n",
              "        &quot;noWrap&quot;: false,\n",
              "        &quot;opacity&quot;: 1,\n",
              "        &quot;subdomains&quot;: &quot;abc&quot;,\n",
              "        &quot;tms&quot;: false\n",
              "}).addTo(map_e69df5491d28b94ed7b0488ee33fa99e);\n",
              "    var tile_layer_b8c97edc8479c7cfe38cc0bdcf7875be = L.tileLayer(\n",
              "        &#x27;https://earthengine.googleapis.com/v1alpha/projects/earthengine-legacy/maps/ab16272f5ba92bbd3e8b454e28084728-938f7e474d2fe772ed62feee42512f8a/tiles/{z}/{x}/{y}&#x27;,\n",
              "        {\n",
              "        &quot;attribution&quot;: &quot;Map Data &amp;copy; &lt;a href=\\&quot;https://earthengine.google.com/\\&quot;&gt;Google Earth Engine&lt;/a&gt;&quot;,\n",
              "        &quot;detectRetina&quot;: false,\n",
              "        &quot;maxNativeZoom&quot;: 18,\n",
              "        &quot;maxZoom&quot;: 18,\n",
              "        &quot;minZoom&quot;: 9,\n",
              "        &quot;noWrap&quot;: false,\n",
              "        &quot;opacity&quot;: 1,\n",
              "        &quot;subdomains&quot;: &quot;abc&quot;,\n",
              "        &quot;tms&quot;: false\n",
              "}).addTo(map_e69df5491d28b94ed7b0488ee33fa99e);\n",
              "    var tile_layer_0a3355e6f23f5db5d9c91d46c84f88c4 = L.tileLayer(\n",
              "        &#x27;https://earthengine.googleapis.com/v1alpha/projects/earthengine-legacy/maps/0a556e2fdc5e30f41ffe728fd2cc21b9-699e2bd0705b95fdae4fdd4b04f7c9c8/tiles/{z}/{x}/{y}&#x27;,\n",
              "        {\n",
              "        &quot;attribution&quot;: &quot;Map Data &amp;copy; &lt;a href=\\&quot;https://earthengine.google.com/\\&quot;&gt;Google Earth Engine&lt;/a&gt;&quot;,\n",
              "        &quot;detectRetina&quot;: false,\n",
              "        &quot;maxNativeZoom&quot;: 18,\n",
              "        &quot;maxZoom&quot;: 18,\n",
              "        &quot;minZoom&quot;: 9,\n",
              "        &quot;noWrap&quot;: false,\n",
              "        &quot;opacity&quot;: 1,\n",
              "        &quot;subdomains&quot;: &quot;abc&quot;,\n",
              "        &quot;tms&quot;: false\n",
              "}).addTo(map_e69df5491d28b94ed7b0488ee33fa99e);\n",
              "    var tile_layer_8255e26e1188d9581aa13015266e40fe = L.tileLayer(\n",
              "        &#x27;https://earthengine.googleapis.com/v1alpha/projects/earthengine-legacy/maps/edd03c79ae07f5709dfad0349df08547-17ebc093262bb3d8389becb73961cafc/tiles/{z}/{x}/{y}&#x27;,\n",
              "        {\n",
              "        &quot;attribution&quot;: &quot;Map Data &amp;copy; &lt;a href=\\&quot;https://earthengine.google.com/\\&quot;&gt;Google Earth Engine&lt;/a&gt;&quot;,\n",
              "        &quot;detectRetina&quot;: false,\n",
              "        &quot;maxNativeZoom&quot;: 18,\n",
              "        &quot;maxZoom&quot;: 18,\n",
              "        &quot;minZoom&quot;: 9,\n",
              "        &quot;noWrap&quot;: false,\n",
              "        &quot;opacity&quot;: 1,\n",
              "        &quot;subdomains&quot;: &quot;abc&quot;,\n",
              "        &quot;tms&quot;: false\n",
              "}).addTo(map_e69df5491d28b94ed7b0488ee33fa99e);\n",
              "    var tile_layer_adfcb348f981659013407cb252214106 = L.tileLayer(\n",
              "        &#x27;https://earthengine.googleapis.com/v1alpha/projects/earthengine-legacy/maps/a5fe97c12934e997195db3ae07f2e929-ca3f397d714f9da1f1f039ed6bad128d/tiles/{z}/{x}/{y}&#x27;,\n",
              "        {\n",
              "        &quot;attribution&quot;: &quot;Map Data &amp;copy; &lt;a href=\\&quot;https://earthengine.google.com/\\&quot;&gt;Google Earth Engine&lt;/a&gt;&quot;,\n",
              "        &quot;detectRetina&quot;: false,\n",
              "        &quot;maxNativeZoom&quot;: 18,\n",
              "        &quot;maxZoom&quot;: 18,\n",
              "        &quot;minZoom&quot;: 9,\n",
              "        &quot;noWrap&quot;: false,\n",
              "        &quot;opacity&quot;: 1,\n",
              "        &quot;subdomains&quot;: &quot;abc&quot;,\n",
              "        &quot;tms&quot;: false\n",
              "}).addTo(map_e69df5491d28b94ed7b0488ee33fa99e);\n",
              "    var tile_layer_7419c7646d51d909f446fa4b365fae90 = L.tileLayer(\n",
              "        &#x27;https://earthengine.googleapis.com/v1alpha/projects/earthengine-legacy/maps/cec0804b8e2efa7fe12e156fb0b05dd3-a4b2ebdd410dadbe53be831b6e5309eb/tiles/{z}/{x}/{y}&#x27;,\n",
              "        {\n",
              "        &quot;attribution&quot;: &quot;Map Data &amp;copy; &lt;a href=\\&quot;https://earthengine.google.com/\\&quot;&gt;Google Earth Engine&lt;/a&gt;&quot;,\n",
              "        &quot;detectRetina&quot;: false,\n",
              "        &quot;maxNativeZoom&quot;: 18,\n",
              "        &quot;maxZoom&quot;: 18,\n",
              "        &quot;minZoom&quot;: 9,\n",
              "        &quot;noWrap&quot;: false,\n",
              "        &quot;opacity&quot;: 1,\n",
              "        &quot;subdomains&quot;: &quot;abc&quot;,\n",
              "        &quot;tms&quot;: false\n",
              "}).addTo(map_e69df5491d28b94ed7b0488ee33fa99e);\n",
              "    var tile_layer_e3cd8e1eb9e085f81ab5814689d7ac42 = L.tileLayer(\n",
              "        &#x27;https://earthengine.googleapis.com/v1alpha/projects/earthengine-legacy/maps/b726b38db9583d8f6eeab5a9eba671c4-f8f5178c5508922f62bb24708180c55b/tiles/{z}/{x}/{y}&#x27;,\n",
              "        {\n",
              "        &quot;attribution&quot;: &quot;Map Data &amp;copy; &lt;a href=\\&quot;https://earthengine.google.com/\\&quot;&gt;Google Earth Engine&lt;/a&gt;&quot;,\n",
              "        &quot;detectRetina&quot;: false,\n",
              "        &quot;maxNativeZoom&quot;: 18,\n",
              "        &quot;maxZoom&quot;: 18,\n",
              "        &quot;minZoom&quot;: 9,\n",
              "        &quot;noWrap&quot;: false,\n",
              "        &quot;opacity&quot;: 0.5,\n",
              "        &quot;subdomains&quot;: &quot;abc&quot;,\n",
              "        &quot;tms&quot;: false\n",
              "}).addTo(map_e69df5491d28b94ed7b0488ee33fa99e);\n",
              "    \n",
              "            var layer_control_1387f46b3a7997d13a3af190f2fe605f = {\n",
              "                base_layers : { &quot;openstreetmap&quot; : tile_layer_f63cfe3ee4099491f44c005d6c7e3b69, },\n",
              "                overlays : { &quot;S2 image&quot; : tile_layer_c9c59d5597bc3a816771dcbb07115953,&quot;probability (cloud)&quot; : tile_layer_b8c97edc8479c7cfe38cc0bdcf7875be,&quot;clouds&quot; : tile_layer_0a3355e6f23f5db5d9c91d46c84f88c4,&quot;cloud_transform&quot; : tile_layer_8255e26e1188d9581aa13015266e40fe,&quot;dark_pixels&quot; : tile_layer_adfcb348f981659013407cb252214106,&quot;shadows&quot; : tile_layer_7419c7646d51d909f446fa4b365fae90,&quot;cloudmask&quot; : tile_layer_e3cd8e1eb9e085f81ab5814689d7ac42, }\n",
              "                };\n",
              "            L.control.layers(\n",
              "                layer_control_1387f46b3a7997d13a3af190f2fe605f.base_layers,\n",
              "                layer_control_1387f46b3a7997d13a3af190f2fe605f.overlays,\n",
              "                {position: &#x27;topright&#x27;,\n",
              "                 collapsed: true,\n",
              "                 autoZIndex: true\n",
              "                }).addTo(map_e69df5491d28b94ed7b0488ee33fa99e);\n",
              "            \n",
              "                tile_layer_b8c97edc8479c7cfe38cc0bdcf7875be.remove();\n",
              "                tile_layer_0a3355e6f23f5db5d9c91d46c84f88c4.remove();\n",
              "                tile_layer_8255e26e1188d9581aa13015266e40fe.remove();\n",
              "                tile_layer_adfcb348f981659013407cb252214106.remove();\n",
              "                tile_layer_7419c7646d51d909f446fa4b365fae90.remove();\n",
              "        \n",
              "&lt;/script&gt;\" style=\"position:absolute;width:100%;height:100%;left:0;top:0;border:none !important;\" allowfullscreen webkitallowfullscreen mozallowfullscreen></iframe></div></div>"
            ],
            "text/plain": [
              "<folium.folium.Map at 0x7fd989c096d0>"
            ]
          },
          "metadata": {},
          "output_type": "display_data"
        }
      ],
      "source": [
        "s2_sr_cld_col_eval_disp = s2_sr_cld_col_eval.map(add_cld_shdw_mask)\n",
        "\n",
        "display_cloud_layers(s2_sr_cld_col_eval_disp)"
      ]
    },
    {
      "cell_type": "markdown",
      "metadata": {
        "id": "pcq7EM3CRTtD"
      },
      "source": [
        "### Evaluate mask component layers\n",
        "\n",
        "In the above map, use the layer control panel in the upper right corner to toggle layers on and off; layer names are the same as band names, for easy code referral. Note that the layers have a minimum zoom level of 9 to avoid resource issues that can occur when visualizing layers that depend on the `ee.Image.reproject` function (used during cloud shadow project and mask dilation).\n",
        "\n",
        "Try changing the above `CLD_PRB_THRESH`, `NIR_DRK_THRESH`, `CLD_PRJ_DIST`, and `BUFFER` input variables and rerunning the previous cell to see how the results change. Find a good set of values for a given overpass and then try the procedure with a new overpass with different cloud conditions (this [S2 SR image browser app](https://showcase.earthengine.app/view/s2-sr-browser-s2cloudless-nb) is handy for quickly identifying images and determining image collection filter criteria). Try to identify a set of parameter values that balances cloud/cloud shadow commission and omission error for a range of cloud types."
      ]
    },
    {
      "cell_type": "markdown",
      "metadata": {
        "id": "jQc5nzgaOODH"
      },
      "source": [
        "## Apply cloud and cloud shadow mask\n",
        "\n",
        "In this section we'll generate a cloud-free composite for the same region as above that represents mean reflectance for the date range."
      ]
    },
    {
      "cell_type": "markdown",
      "metadata": {
        "id": "6aWG1euyR5MD"
      },
      "source": [
        "### Define collection filter and cloud mask parameters\n",
        "\n",
        "We'll redefine the parameters to be a little more aggressive, i.e. decrease the cloud probability threshold, increase the cloud projection distance, and increase the buffer."
      ]
    },
    {
      "cell_type": "code",
      "execution_count": null,
      "metadata": {
        "id": "X8CtGdl5OPNk"
      },
      "outputs": [],
      "source": [
        "# Define collection filter and cloud mask parameters\n",
        "AOI = ee.Geometry.MultiPolygon(shapefile['features'][0][\"geometry\"]['coordinates'])\n",
        "START_DATE = '2021-11-14'\n",
        "END_DATE = '2021-12-23'\n",
        "CLOUD_FILTER =30\n",
        "CLD_PRB_THRESH = 80\n",
        "NIR_DRK_THRESH = 1\n",
        "CLD_PRJ_DIST = 2\n",
        "BUFFER = 90"
      ]
    },
    {
      "cell_type": "markdown",
      "metadata": {
        "id": "HSDB4iSdOm4J"
      },
      "source": [
        "### Build a Sentinel-2 collection\n",
        "\n",
        "Reassemble the S2-cloudless collection since the collection filter parameters have changed."
      ]
    },
    {
      "cell_type": "code",
      "execution_count": null,
      "metadata": {
        "id": "a-GGKGNaOnrj"
      },
      "outputs": [],
      "source": [
        "s2_sr_cld_col = get_s2_sr_cld_col(AOI, START_DATE, END_DATE)"
      ]
    },
    {
      "cell_type": "markdown",
      "metadata": {
        "id": "2D5PqyXsOwDq"
      },
      "source": [
        "### Define cloud mask application function\n",
        "\n",
        "Define a function to apply the cloud mask to each image in the collection."
      ]
    },
    {
      "cell_type": "code",
      "execution_count": null,
      "metadata": {
        "id": "Lv8Sk2VBOyYf"
      },
      "outputs": [],
      "source": [
        "\n",
        "def apply_cld_shdw_mask(img):\n",
        "    # Subset the cloudmask band and invert it so clouds/shadow are 0, else 1.\n",
        "    not_cld_shdw = img.select('cloudmask').Not()\n",
        "\n",
        "    # Subset reflectance bands and update their masks, return the result.\n",
        "    return img.select('B.*').updateMask(not_cld_shdw)"
      ]
    },
    {
      "cell_type": "markdown",
      "metadata": {
        "id": "WukysV80O3vL"
      },
      "source": [
        "### Process the collection\n",
        "\n",
        "Add cloud and cloud shadow component bands to each image and then apply the mask to each image. Reduce the collection by median."
      ]
    },
    {
      "cell_type": "code",
      "execution_count": null,
      "metadata": {
        "id": "pNO9LxMSO88H"
      },
      "outputs": [],
      "source": [
        "s2_sr_median = (s2_sr_cld_col.map(add_cld_shdw_mask)\n",
        "                             .map(apply_cld_shdw_mask)\n",
        "                             .median())"
      ]
    },
    {
      "cell_type": "markdown",
      "metadata": {
        "id": "qpCLwrwnPCf_"
      },
      "source": [
        "### Display the cloud-free composite\n",
        "\n",
        "Display the results; [`ee.Image.reproject`](https://developers.google.com/earth-engine/guides/projections#reprojecting) is forcing computations to happen at 100 and 20 m scales (i.e. it is not relying on appropriate pyramid level [scales for analysis](https://developers.google.com/earth-engine/guides/scale#scale-of-analysis)). The issues with `ee.Image.reproject` being resource-intensive in this case are mostly confined to interactive map viewing. Batch image [exports](https://developers.google.com/earth-engine/guides/exporting) and table reduction exports where the `scale` parameter is set to typical Sentinel-2 scales (10-60 m) are less affected.\n",
        "\n"
      ]
    },
    {
      "cell_type": "code",
      "execution_count": null,
      "metadata": {
        "colab": {
          "base_uri": "https://localhost:8080/",
          "height": 1000
        },
        "id": "OG3xSDMMPEos",
        "outputId": "e35ef27d-141f-4d5e-dc84-7d3bcd613a93"
      },
      "outputs": [
        {
          "data": {
            "text/html": [
              "<div style=\"width:100%;\"><div style=\"position:relative;width:100%;height:0;padding-bottom:60%;\"><span style=\"color:#565656\">Make this Notebook Trusted to load map: File -> Trust Notebook</span><iframe srcdoc=\"&lt;!DOCTYPE html&gt;\n",
              "&lt;head&gt;    \n",
              "    &lt;meta http-equiv=&quot;content-type&quot; content=&quot;text/html; charset=UTF-8&quot; /&gt;\n",
              "    &lt;script&gt;L_PREFER_CANVAS=false; L_NO_TOUCH=false; L_DISABLE_3D=false;&lt;/script&gt;\n",
              "    &lt;script src=&quot;https://cdn.jsdelivr.net/npm/leaflet@1.4.0/dist/leaflet.js&quot;&gt;&lt;/script&gt;\n",
              "    &lt;script src=&quot;https://code.jquery.com/jquery-1.12.4.min.js&quot;&gt;&lt;/script&gt;\n",
              "    &lt;script src=&quot;https://maxcdn.bootstrapcdn.com/bootstrap/3.2.0/js/bootstrap.min.js&quot;&gt;&lt;/script&gt;\n",
              "    &lt;script src=&quot;https://cdnjs.cloudflare.com/ajax/libs/Leaflet.awesome-markers/2.0.2/leaflet.awesome-markers.js&quot;&gt;&lt;/script&gt;\n",
              "    &lt;link rel=&quot;stylesheet&quot; href=&quot;https://cdn.jsdelivr.net/npm/leaflet@1.4.0/dist/leaflet.css&quot;/&gt;\n",
              "    &lt;link rel=&quot;stylesheet&quot; href=&quot;https://maxcdn.bootstrapcdn.com/bootstrap/3.2.0/css/bootstrap.min.css&quot;/&gt;\n",
              "    &lt;link rel=&quot;stylesheet&quot; href=&quot;https://maxcdn.bootstrapcdn.com/bootstrap/3.2.0/css/bootstrap-theme.min.css&quot;/&gt;\n",
              "    &lt;link rel=&quot;stylesheet&quot; href=&quot;https://maxcdn.bootstrapcdn.com/font-awesome/4.6.3/css/font-awesome.min.css&quot;/&gt;\n",
              "    &lt;link rel=&quot;stylesheet&quot; href=&quot;https://cdnjs.cloudflare.com/ajax/libs/Leaflet.awesome-markers/2.0.2/leaflet.awesome-markers.css&quot;/&gt;\n",
              "    &lt;link rel=&quot;stylesheet&quot; href=&quot;https://rawcdn.githack.com/python-visualization/folium/master/folium/templates/leaflet.awesome.rotate.css&quot;/&gt;\n",
              "    &lt;style&gt;html, body {width: 100%;height: 100%;margin: 0;padding: 0;}&lt;/style&gt;\n",
              "    &lt;style&gt;#map {position:absolute;top:0;bottom:0;right:0;left:0;}&lt;/style&gt;\n",
              "    \n",
              "    &lt;meta name=&quot;viewport&quot; content=&quot;width=device-width,\n",
              "        initial-scale=1.0, maximum-scale=1.0, user-scalable=no&quot; /&gt;\n",
              "    &lt;style&gt;#map_31ba32dfcfb9a2579aebdfdbfc66669a {\n",
              "        position: relative;\n",
              "        width: 100.0%;\n",
              "        height: 100.0%;\n",
              "        left: 0.0%;\n",
              "        top: 0.0%;\n",
              "        }\n",
              "    &lt;/style&gt;\n",
              "&lt;/head&gt;\n",
              "&lt;body&gt;    \n",
              "    \n",
              "    &lt;div class=&quot;folium-map&quot; id=&quot;map_31ba32dfcfb9a2579aebdfdbfc66669a&quot; &gt;&lt;/div&gt;\n",
              "&lt;/body&gt;\n",
              "&lt;script&gt;    \n",
              "    \n",
              "    \n",
              "        var bounds = null;\n",
              "    \n",
              "\n",
              "    var map_31ba32dfcfb9a2579aebdfdbfc66669a = L.map(\n",
              "        &#x27;map_31ba32dfcfb9a2579aebdfdbfc66669a&#x27;, {\n",
              "        center: [5.666303116053737, -0.24223591915790776],\n",
              "        zoom: 12,\n",
              "        maxBounds: bounds,\n",
              "        layers: [],\n",
              "        worldCopyJump: false,\n",
              "        crs: L.CRS.EPSG3857,\n",
              "        zoomControl: true,\n",
              "        });\n",
              "\n",
              "\n",
              "    \n",
              "    var tile_layer_735b5911b4fb6cf993a195d3d3079537 = L.tileLayer(\n",
              "        &#x27;https://{s}.tile.openstreetmap.org/{z}/{x}/{y}.png&#x27;,\n",
              "        {\n",
              "        &quot;attribution&quot;: null,\n",
              "        &quot;detectRetina&quot;: false,\n",
              "        &quot;maxNativeZoom&quot;: 18,\n",
              "        &quot;maxZoom&quot;: 18,\n",
              "        &quot;minZoom&quot;: 0,\n",
              "        &quot;noWrap&quot;: false,\n",
              "        &quot;opacity&quot;: 1,\n",
              "        &quot;subdomains&quot;: &quot;abc&quot;,\n",
              "        &quot;tms&quot;: false\n",
              "}).addTo(map_31ba32dfcfb9a2579aebdfdbfc66669a);\n",
              "    var tile_layer_9db39cb827f8e9ed99434110d17fe9b1 = L.tileLayer(\n",
              "        &#x27;https://earthengine.googleapis.com/v1alpha/projects/earthengine-legacy/maps/bc1fdfaca52071d9830fc3eef83f3ecf-151237b0a47aa4b17d3330f9d17883d1/tiles/{z}/{x}/{y}&#x27;,\n",
              "        {\n",
              "        &quot;attribution&quot;: &quot;Map Data &amp;copy; &lt;a href=\\&quot;https://earthengine.google.com/\\&quot;&gt;Google Earth Engine&lt;/a&gt;&quot;,\n",
              "        &quot;detectRetina&quot;: false,\n",
              "        &quot;maxNativeZoom&quot;: 18,\n",
              "        &quot;maxZoom&quot;: 18,\n",
              "        &quot;minZoom&quot;: 9,\n",
              "        &quot;noWrap&quot;: false,\n",
              "        &quot;opacity&quot;: 1,\n",
              "        &quot;subdomains&quot;: &quot;abc&quot;,\n",
              "        &quot;tms&quot;: false\n",
              "}).addTo(map_31ba32dfcfb9a2579aebdfdbfc66669a);\n",
              "    \n",
              "            var layer_control_6fb911be4c8870a7147f0fb67ceae11a = {\n",
              "                base_layers : { &quot;openstreetmap&quot; : tile_layer_735b5911b4fb6cf993a195d3d3079537, },\n",
              "                overlays : { &quot;S2 cloud-free mosaic&quot; : tile_layer_9db39cb827f8e9ed99434110d17fe9b1, }\n",
              "                };\n",
              "            L.control.layers(\n",
              "                layer_control_6fb911be4c8870a7147f0fb67ceae11a.base_layers,\n",
              "                layer_control_6fb911be4c8870a7147f0fb67ceae11a.overlays,\n",
              "                {position: &#x27;topright&#x27;,\n",
              "                 collapsed: true,\n",
              "                 autoZIndex: true\n",
              "                }).addTo(map_31ba32dfcfb9a2579aebdfdbfc66669a);\n",
              "            \n",
              "        \n",
              "&lt;/script&gt;\" style=\"position:absolute;width:100%;height:100%;left:0;top:0;border:none !important;\" allowfullscreen webkitallowfullscreen mozallowfullscreen></iframe></div></div>"
            ],
            "text/plain": [
              "<folium.folium.Map at 0x7fd98a9caf90>"
            ]
          },
          "metadata": {},
          "output_type": "display_data"
        }
      ],
      "source": [
        "# Create a folium map object.\n",
        "center = AOI.centroid(10).coordinates().reverse().getInfo()\n",
        "m = folium.Map(location=center, zoom_start=12)\n",
        "\n",
        "# Add layers to the folium map.\n",
        "m.add_ee_layer(s2_sr_median,\n",
        "                {'bands': ['B8', 'B4', 'B3'], 'min': 0, 'max': 2500, 'gamma': 1.1},\n",
        "                'S2 cloud-free mosaic', True, 1, 9)\n",
        "\n",
        "# Add a layer control panel to the map.\n",
        "m.add_child(folium.LayerControl())\n",
        "\n",
        "# Display the map.\n",
        "display(m)"
      ]
    },
    {
      "cell_type": "markdown",
      "metadata": {
        "id": "WrQbLS1QPKbf"
      },
      "source": [
        "### Exporting images"
      ]
    },
    {
      "cell_type": "code",
      "execution_count": null,
      "metadata": {
        "id": "qqOz2-1EbV-_"
      },
      "outputs": [],
      "source": [
        "accra = s2_sr_median.select(['B2', 'B3', 'B4','B8'])"
      ]
    },
    {
      "cell_type": "code",
      "execution_count": null,
      "metadata": {
        "id": "4_AaM1eYRDGp"
      },
      "outputs": [],
      "source": [
        "## clip image\n",
        "clip = accra.clipToCollection(fc)\n",
        "# # export clipped result in Tiff\n",
        "region = fc.geometry()\n",
        "crs = \"EPSG:4326\"\n",
        "scale = 10\n",
        "folder = 'Accra folder'\n",
        "img_name = 'Cloud_free_Accra_img'\n",
        "export_config = {'scale': scale, 'maxPixels':5000000000 , 'driveFolder': folder, 'region': region}\n",
        "task = ee.batch.Export.image(clip, img_name, export_config)\n",
        "task.start()\n",
        "\n"
      ]
    },
    {
      "cell_type": "code",
      "execution_count": null,
      "metadata": {
        "id": "xnsZAI00PLNG"
      },
      "outputs": [],
      "source": [
        "# save map to html file\n",
        "m.save('accra.html')\n"
      ]
    }
  ],
  "metadata": {
    "colab": {
      "name": "Accra - Cloud Free Satellite Image.ipynb",
      "provenance": []
    },
    "kernelspec": {
      "display_name": "Python 3",
      "name": "python3"
    },
    "language_info": {
      "name": "python"
    }
  },
  "nbformat": 4,
  "nbformat_minor": 0
}
